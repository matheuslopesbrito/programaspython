{
 "cells": [
  {
   "cell_type": "code",
   "execution_count": 6,
   "id": "db58c984",
   "metadata": {},
   "outputs": [],
   "source": [
    "import pyautogui as ptg\n",
    "import time\n",
    "import pyperclip as pcp\n",
    "\n",
    "ptg.PAUSE = 3\n",
    "\n",
    "ptg.hotkey('ctrl', 't')\n",
    "ptg.write('adev11')\n",
    "ptg.press('enter')\n",
    "# time.sleep(5)\n",
    "# ptg.click(963, 97)\n",
    "# ptg.write('python')\n",
    "# ptg.press('enter')"
   ]
  },
  {
   "cell_type": "code",
   "execution_count": null,
   "id": "505b163c",
   "metadata": {},
   "outputs": [],
   "source": []
  }
 ],
 "metadata": {
  "kernelspec": {
   "display_name": "Python 3",
   "language": "python",
   "name": "python3"
  },
  "language_info": {
   "codemirror_mode": {
    "name": "ipython",
    "version": 3
   },
   "file_extension": ".py",
   "mimetype": "text/x-python",
   "name": "python",
   "nbconvert_exporter": "python",
   "pygments_lexer": "ipython3",
   "version": "3.8.8"
  }
 },
 "nbformat": 4,
 "nbformat_minor": 5
}
